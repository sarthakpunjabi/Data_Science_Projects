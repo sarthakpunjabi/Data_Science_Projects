{
 "cells": [
  {
   "cell_type": "markdown",
   "metadata": {},
   "source": [
    "# Submission by:\n",
    "    Name: Sarthak Punjabi\n",
    "    Student Number: 21183147\n",
    "    Module Name: CS4168 Data Mining\n",
    "    Lab Number: 1\n",
    "    "
   ]
  },
  {
   "cell_type": "markdown",
   "metadata": {},
   "source": [
    "# `Importing Libraries` "
   ]
  },
  {
   "cell_type": "code",
   "execution_count": 14,
   "metadata": {},
   "outputs": [],
   "source": [
    "import pandas as pd\n",
    "import numpy as np\n",
    "import matplotlib.pyplot as plt\n",
    "from sklearn import manifold \n",
    "from sklearn import cluster \n",
    "from sklearn.cluster import KMeans\n",
    "%matplotlib inline\n"
   ]
  },
  {
   "cell_type": "markdown",
   "metadata": {},
   "source": [
    "# `Loading the Dataset`"
   ]
  },
  {
   "cell_type": "code",
   "execution_count": 15,
   "metadata": {},
   "outputs": [],
   "source": [
    "df = pd.read_csv(\"../datasets/Bank_new.csv\")\n",
    "data = np.array(df.values, dtype=float)\n",
    "\n"
   ]
  },
  {
   "cell_type": "markdown",
   "metadata": {},
   "source": [
    "### Getting a visual confirmation of the shape of the array."
   ]
  },
  {
   "cell_type": "code",
   "execution_count": 16,
   "metadata": {},
   "outputs": [
    {
     "data": {
      "text/plain": [
       "array([[0.00000000e+00, 3.20000000e+01, 8.16666667e-01, ...,\n",
       "        0.00000000e+00, 0.00000000e+00, 7.63262884e-01],\n",
       "       [1.00000000e+00, 3.90000000e+01, 1.43333333e+00, ...,\n",
       "        0.00000000e+00, 0.00000000e+00, 5.44606983e-01],\n",
       "       [2.00000000e+00, 5.90000000e+01, 2.15625000e+00, ...,\n",
       "        0.00000000e+00, 0.00000000e+00, 5.95185360e-01],\n",
       "       ...,\n",
       "       [1.99700000e+03, 8.10000000e+01, 2.40416667e+00, ...,\n",
       "        0.00000000e+00, 1.00000000e+00, 1.40881635e-01],\n",
       "       [1.99800000e+03, 4.60000000e+01, 9.04791667e+00, ...,\n",
       "        0.00000000e+00, 1.00000000e+00, 1.40881635e-01],\n",
       "       [1.99900000e+03, 4.00000000e+01, 1.33395833e+01, ...,\n",
       "        0.00000000e+00, 1.00000000e+00, 1.40881635e-01]])"
      ]
     },
     "execution_count": 16,
     "metadata": {},
     "output_type": "execute_result"
    }
   ],
   "source": [
    "data"
   ]
  },
  {
   "cell_type": "markdown",
   "metadata": {},
   "source": [
    "# `Elbow method`\n",
    "### **For finding out the best number of clusters**"
   ]
  },
  {
   "cell_type": "markdown",
   "metadata": {},
   "source": [
    "## Elbow method is used to find the best number of clusters.\n",
    "### In cluster analysis, the elbow method is a heuristic used in determining the number of clusters in a data set. The method consists of plotting the explained variation as a function of the number of clusters, and picking the elbow of the curve as the number of clusters to use.\n"
   ]
  },
  {
   "cell_type": "code",
   "execution_count": 17,
   "metadata": {},
   "outputs": [
    {
     "data": {
      "image/png": "[encoded data removed]",
      "text/plain": [
       "<Figure size 432x288 with 1 Axes>"
      ]
     },
     "metadata": {
      "needs_background": "light"
     },
     "output_type": "display_data"
    }
   ],
   "source": [
    "wcss = []\n",
    "for i in range(1,11):\n",
    "    kmeans = KMeans(n_clusters=i,init='k-means++',random_state=42)\n",
    "    kmeans.fit(data)\n",
    "    wcss.append(kmeans.inertia_)\n",
    "\n",
    "plt.plot(range(1,11),wcss, \"bx-\")\n",
    "plt.title('Elbow Method')\n",
    "plt.xlabel('number of clusters')\n",
    "plt.ylabel('wcss')\n",
    "plt.show()"
   ]
  },
  {
   "cell_type": "markdown",
   "metadata": {},
   "source": [
    "### From the above graph we observe that the optimal number of clusters is 3 and that is observed using the elbow method. From the point \"3\" the graph gets straight without any edges point the optimal number for K.\n",
    "\n",
    "### After this we use \"k-means\" clustering method to visualize the clusters and get a visual confirmation."
   ]
  },
  {
   "cell_type": "code",
   "execution_count": 18,
   "metadata": {},
   "outputs": [],
   "source": [
    "K_means = 3"
   ]
  },
  {
   "cell_type": "markdown",
   "metadata": {},
   "source": [
    "# `Visualizing the clusters`"
   ]
  },
  {
   "cell_type": "markdown",
   "metadata": {},
   "source": [
    "### Here we create a function for plotting scatter plots with the inputs being points, labels, centers, and title. All these inputs must be provided by the user to the function to plot a scatter plot of the said cluster."
   ]
  },
  {
   "cell_type": "code",
   "execution_count": 19,
   "metadata": {},
   "outputs": [],
   "source": [
    "colors = np.array(['orange', 'blue', 'lime', 'blue', 'khaki', 'pink', 'green', 'purple'])\n",
    "\n",
    "def clustering_scatterplot(points, labels, centers, title):\n",
    "    \n",
    "    \n",
    "    n_clusters = np.unique(labels).size\n",
    "    for i in range(n_clusters):\n",
    "        h = plt.scatter(points[labels==i,0],\n",
    "                        points[labels==i,1], \n",
    "                        c=colors[i%colors.size],\n",
    "                        label = 'cluster '+str(i))\n",
    "\n",
    "    # plot the centers of the clusters\n",
    "    if centers is not None:\n",
    "        plt.scatter(centers[:,0], centers[:,1], c='r', marker='*', s=500)\n",
    "\n",
    "    _ = plt.title(title)\n",
    "    _ = plt.legend()\n",
    "    _ = plt.xlabel('x')\n",
    "    _ = plt.ylabel('y')"
   ]
  },
  {
   "cell_type": "markdown",
   "metadata": {},
   "source": [
    "# `Running K-Means Algo` "
   ]
  },
  {
   "cell_type": "markdown",
   "metadata": {},
   "source": [
    "### Here, we are implementing the k-means clustering algorithm and we use the default parameters but the \"max-iter\" parameter to 300 as the dataset that we are working on is divisible by 300 making analysis easier and efficient."
   ]
  },
  {
   "cell_type": "code",
   "execution_count": 20,
   "metadata": {},
   "outputs": [],
   "source": [
    "clustered_data_sklearn = cluster.KMeans(n_clusters=K_means, n_init=10, max_iter=300).fit(data)"
   ]
  },
  {
   "cell_type": "markdown",
   "metadata": {},
   "source": [
    "# `Applying the manifold techniques and Multi Dimensional Scaling`\n",
    "\n",
    "### Here, after creating the clusters using the K-Means Algorithm we add those clusters back to the cluster center data containing all the information about the clusters."
   ]
  },
  {
   "cell_type": "code",
   "execution_count": 21,
   "metadata": {},
   "outputs": [],
   "source": [
    "data_and_centers = np.r_[data,clustered_data_sklearn.cluster_centers_]"
   ]
  },
  {
   "cell_type": "markdown",
   "metadata": {},
   "source": [
    "### **Applying MDS (Multi Dimensional Scaling Techniques)**"
   ]
  },
  {
   "cell_type": "markdown",
   "metadata": {},
   "source": [
    "### Multidimensional scaling (MDS) is a technique that creates a map displaying the relative positions of a number of objects, given only a table of the distances between them. The map may consist of one, two, three, or even more dimensions. The program calculates either the metric or the non-metric solution.\n",
    "### It Uses Stress instead of Strain so that there is as much less loss as possible thud giving a clear and precise analysis of the dataset and the scaling technique works flawlessly to provide a lossless tranformed data that is ready for the next process. "
   ]
  },
  {
   "cell_type": "code",
   "execution_count": 22,
   "metadata": {},
   "outputs": [
    {
     "name": "stdout",
     "output_type": "stream",
     "text": [
      "transformation complete\n"
     ]
    }
   ],
   "source": [
    "XYcoordinates = manifold.MDS(n_components=3).fit_transform(data_and_centers)\n",
    "print(\"transformation complete\")"
   ]
  },
  {
   "cell_type": "markdown",
   "metadata": {},
   "source": [
    "### Here, we use the scatterplot function that we have developed above. In this step we provide the necessary inputs required by the function to work properly. Also, for this particular scatter plot we visualise using the MDS scaling technique."
   ]
  },
  {
   "cell_type": "code",
   "execution_count": 23,
   "metadata": {},
   "outputs": [
    {
     "data": {
      "image/png": "[encoded data removed]",
      "text/plain": [
       "<Figure size 432x288 with 1 Axes>"
      ]
     },
     "metadata": {
      "needs_background": "light"
     },
     "output_type": "display_data"
    }
   ],
   "source": [
    "clustering_scatterplot(points=XYcoordinates[:-K_means,:], \n",
    "                       labels=clustered_data_sklearn.labels_, \n",
    "                       centers=XYcoordinates[-K_means:,:], \n",
    "                       title='MDS')"
   ]
  },
  {
   "cell_type": "markdown",
   "metadata": {},
   "source": [
    "### **Testing that Again**"
   ]
  },
  {
   "cell_type": "code",
   "execution_count": 24,
   "metadata": {},
   "outputs": [],
   "source": [
    "# df1 = data.reshape(1, -1) \n",
    "# means = np.array([np.mean(data[np.where(df1==i)],axis=0) for i in range(4)])\n",
    "# mds_mean = manifold.MDS(3,verbose=1,eps=1e-8,n_init=8)\n",
    "# mds_mean.fit(means)\n",
    "# plt.scatter(mds_mean.embedding_[:,0],mds_mean.embedding_[:,1])\n",
    "# plt.title(\"Mds of class Mean\")\n",
    "# plt.axis(\"equal\")\n",
    "# plt.show()\n"
   ]
  },
  {
   "cell_type": "markdown",
   "metadata": {},
   "source": [
    "## **Applying TSNE**"
   ]
  },
  {
   "cell_type": "markdown",
   "metadata": {},
   "source": [
    "### Here, we are applying another scaling technique. T-distributed Stochastic Neighbourhood Embedding (tSNE) is an unsupervised Machine Learning algorithm developed in 2008 by Laurens van der Maaten and Geoffery Hinton. It has become widely used in bioinformatics and more generally in data science to visualise the structure of high dimensional data in 2 or 3 dimensions.\n",
    "\n",
    "### Here, we are using perplexity to firstly reduce the data loss also by using perplexity we are able to differentiate between tight clustering and loose clustering "
   ]
  },
  {
   "cell_type": "code",
   "execution_count": 25,
   "metadata": {},
   "outputs": [
    {
     "name": "stderr",
     "output_type": "stream",
     "text": [
      "/Users/sarthakpunjabi/Desktop/data_science_projects/classification/env1/lib/python3.9/site-packages/sklearn/manifold/_t_sne.py:780: FutureWarning: The default initialization in TSNE will change from 'random' to 'pca' in 1.2.\n",
      "  warnings.warn(\n",
      "/Users/sarthakpunjabi/Desktop/data_science_projects/classification/env1/lib/python3.9/site-packages/sklearn/manifold/_t_sne.py:790: FutureWarning: The default learning rate in TSNE will change from 200.0 to 'auto' in 1.2.\n",
      "  warnings.warn(\n"
     ]
    },
    {
     "name": "stdout",
     "output_type": "stream",
     "text": [
      "transformation complete\n"
     ]
    }
   ],
   "source": [
    "XYcoordinates = manifold.TSNE(n_components=2,perplexity=100).fit_transform(data_and_centers)\n",
    "print(\"transformation complete\")"
   ]
  },
  {
   "cell_type": "code",
   "execution_count": 26,
   "metadata": {},
   "outputs": [
    {
     "data": {
      "image/png": "[encoded data removed]",
      "text/plain": [
       "<Figure size 432x288 with 1 Axes>"
      ]
     },
     "metadata": {
      "needs_background": "light"
     },
     "output_type": "display_data"
    }
   ],
   "source": [
    "clustering_scatterplot(points=XYcoordinates[:-K_means,:], \n",
    "                       labels=clustered_data_sklearn.labels_,\n",
    "                       centers=XYcoordinates[-K_means:,:], \n",
    "                       title='TSNE')"
   ]
  },
  {
   "cell_type": "markdown",
   "metadata": {},
   "source": [
    "## `Clustering Analysis`\n",
    "#### Add the cluster labels as an extra column in the original dataframe\n"
   ]
  },
  {
   "cell_type": "code",
   "execution_count": 27,
   "metadata": {},
   "outputs": [],
   "source": [
    "df['cluster'] = pd.Series(clustered_data_sklearn.labels_, index=df.index)\n",
    "\n"
   ]
  },
  {
   "cell_type": "code",
   "execution_count": 28,
   "metadata": {},
   "outputs": [
    {
     "data": {
      "text/html": [
       "<div>\n",
       "<style scoped>\n",
       "    .dataframe tbody tr th:only-of-type {\n",
       "        vertical-align: middle;\n",
       "    }\n",
       "\n",
       "    .dataframe tbody tr th {\n",
       "        vertical-align: top;\n",
       "    }\n",
       "\n",
       "    .dataframe thead th {\n",
       "        text-align: right;\n",
       "    }\n",
       "</style>\n",
       "<table border=\"1\" class=\"dataframe\">\n",
       "  <thead>\n",
       "    <tr style=\"text-align: right;\">\n",
       "      <th></th>\n",
       "      <th>Unnamed: 0</th>\n",
       "      <th>age</th>\n",
       "      <th>balance</th>\n",
       "      <th>day</th>\n",
       "      <th>duration</th>\n",
       "      <th>campaign</th>\n",
       "      <th>pdays</th>\n",
       "      <th>job_blue-collar</th>\n",
       "      <th>job_entrepreneur</th>\n",
       "      <th>job_housemaid</th>\n",
       "      <th>...</th>\n",
       "      <th>month_mar</th>\n",
       "      <th>month_may</th>\n",
       "      <th>month_nov</th>\n",
       "      <th>month_oct</th>\n",
       "      <th>month_sep</th>\n",
       "      <th>poutcome_other</th>\n",
       "      <th>poutcome_success</th>\n",
       "      <th>subscribed_yes</th>\n",
       "      <th>TotalDays</th>\n",
       "      <th>cluster</th>\n",
       "    </tr>\n",
       "  </thead>\n",
       "  <tbody>\n",
       "    <tr>\n",
       "      <th>0</th>\n",
       "      <td>0</td>\n",
       "      <td>32.0</td>\n",
       "      <td>0.816667</td>\n",
       "      <td>1</td>\n",
       "      <td>1.677923</td>\n",
       "      <td>2</td>\n",
       "      <td>0.939612</td>\n",
       "      <td>0</td>\n",
       "      <td>0</td>\n",
       "      <td>0</td>\n",
       "      <td>...</td>\n",
       "      <td>0</td>\n",
       "      <td>0</td>\n",
       "      <td>0</td>\n",
       "      <td>0</td>\n",
       "      <td>0</td>\n",
       "      <td>0</td>\n",
       "      <td>0</td>\n",
       "      <td>0</td>\n",
       "      <td>0.763263</td>\n",
       "      <td>1</td>\n",
       "    </tr>\n",
       "    <tr>\n",
       "      <th>1</th>\n",
       "      <td>1</td>\n",
       "      <td>39.0</td>\n",
       "      <td>1.433333</td>\n",
       "      <td>1</td>\n",
       "      <td>0.809651</td>\n",
       "      <td>2</td>\n",
       "      <td>0.944061</td>\n",
       "      <td>0</td>\n",
       "      <td>0</td>\n",
       "      <td>0</td>\n",
       "      <td>...</td>\n",
       "      <td>0</td>\n",
       "      <td>0</td>\n",
       "      <td>0</td>\n",
       "      <td>0</td>\n",
       "      <td>0</td>\n",
       "      <td>0</td>\n",
       "      <td>0</td>\n",
       "      <td>0</td>\n",
       "      <td>0.544607</td>\n",
       "      <td>1</td>\n",
       "    </tr>\n",
       "    <tr>\n",
       "      <th>2</th>\n",
       "      <td>2</td>\n",
       "      <td>59.0</td>\n",
       "      <td>2.156250</td>\n",
       "      <td>1</td>\n",
       "      <td>0.581040</td>\n",
       "      <td>2</td>\n",
       "      <td>1.155386</td>\n",
       "      <td>0</td>\n",
       "      <td>0</td>\n",
       "      <td>0</td>\n",
       "      <td>...</td>\n",
       "      <td>0</td>\n",
       "      <td>0</td>\n",
       "      <td>0</td>\n",
       "      <td>0</td>\n",
       "      <td>0</td>\n",
       "      <td>0</td>\n",
       "      <td>0</td>\n",
       "      <td>0</td>\n",
       "      <td>0.595185</td>\n",
       "      <td>1</td>\n",
       "    </tr>\n",
       "    <tr>\n",
       "      <th>3</th>\n",
       "      <td>3</td>\n",
       "      <td>47.0</td>\n",
       "      <td>0.829167</td>\n",
       "      <td>1</td>\n",
       "      <td>0.885044</td>\n",
       "      <td>1</td>\n",
       "      <td>1.153588</td>\n",
       "      <td>1</td>\n",
       "      <td>0</td>\n",
       "      <td>0</td>\n",
       "      <td>...</td>\n",
       "      <td>0</td>\n",
       "      <td>0</td>\n",
       "      <td>0</td>\n",
       "      <td>0</td>\n",
       "      <td>0</td>\n",
       "      <td>0</td>\n",
       "      <td>0</td>\n",
       "      <td>0</td>\n",
       "      <td>0.804609</td>\n",
       "      <td>1</td>\n",
       "    </tr>\n",
       "    <tr>\n",
       "      <th>4</th>\n",
       "      <td>4</td>\n",
       "      <td>54.0</td>\n",
       "      <td>2.091667</td>\n",
       "      <td>1</td>\n",
       "      <td>1.194806</td>\n",
       "      <td>1</td>\n",
       "      <td>1.270678</td>\n",
       "      <td>0</td>\n",
       "      <td>0</td>\n",
       "      <td>0</td>\n",
       "      <td>...</td>\n",
       "      <td>0</td>\n",
       "      <td>0</td>\n",
       "      <td>0</td>\n",
       "      <td>0</td>\n",
       "      <td>0</td>\n",
       "      <td>0</td>\n",
       "      <td>0</td>\n",
       "      <td>0</td>\n",
       "      <td>0.621737</td>\n",
       "      <td>1</td>\n",
       "    </tr>\n",
       "  </tbody>\n",
       "</table>\n",
       "<p>5 rows × 41 columns</p>\n",
       "</div>"
      ],
      "text/plain": [
       "   Unnamed: 0   age   balance  day  duration  campaign     pdays  \\\n",
       "0           0  32.0  0.816667    1  1.677923         2  0.939612   \n",
       "1           1  39.0  1.433333    1  0.809651         2  0.944061   \n",
       "2           2  59.0  2.156250    1  0.581040         2  1.155386   \n",
       "3           3  47.0  0.829167    1  0.885044         1  1.153588   \n",
       "4           4  54.0  2.091667    1  1.194806         1  1.270678   \n",
       "\n",
       "   job_blue-collar  job_entrepreneur  job_housemaid  ...  month_mar  \\\n",
       "0                0                 0              0  ...          0   \n",
       "1                0                 0              0  ...          0   \n",
       "2                0                 0              0  ...          0   \n",
       "3                1                 0              0  ...          0   \n",
       "4                0                 0              0  ...          0   \n",
       "\n",
       "   month_may  month_nov  month_oct  month_sep  poutcome_other  \\\n",
       "0          0          0          0          0               0   \n",
       "1          0          0          0          0               0   \n",
       "2          0          0          0          0               0   \n",
       "3          0          0          0          0               0   \n",
       "4          0          0          0          0               0   \n",
       "\n",
       "   poutcome_success  subscribed_yes  TotalDays  cluster  \n",
       "0                 0               0   0.763263        1  \n",
       "1                 0               0   0.544607        1  \n",
       "2                 0               0   0.595185        1  \n",
       "3                 0               0   0.804609        1  \n",
       "4                 0               0   0.621737        1  \n",
       "\n",
       "[5 rows x 41 columns]"
      ]
     },
     "execution_count": 28,
     "metadata": {},
     "output_type": "execute_result"
    }
   ],
   "source": [
    "df.head()"
   ]
  },
  {
   "cell_type": "code",
   "execution_count": 29,
   "metadata": {},
   "outputs": [
    {
     "data": {
      "text/html": [
       "<div>\n",
       "<style scoped>\n",
       "    .dataframe tbody tr th:only-of-type {\n",
       "        vertical-align: middle;\n",
       "    }\n",
       "\n",
       "    .dataframe tbody tr th {\n",
       "        vertical-align: top;\n",
       "    }\n",
       "\n",
       "    .dataframe thead th {\n",
       "        text-align: right;\n",
       "    }\n",
       "</style>\n",
       "<table border=\"1\" class=\"dataframe\">\n",
       "  <thead>\n",
       "    <tr style=\"text-align: right;\">\n",
       "      <th></th>\n",
       "      <th>Unnamed: 0</th>\n",
       "      <th>age</th>\n",
       "      <th>balance</th>\n",
       "      <th>day</th>\n",
       "      <th>duration</th>\n",
       "      <th>campaign</th>\n",
       "      <th>pdays</th>\n",
       "      <th>job_blue-collar</th>\n",
       "      <th>job_entrepreneur</th>\n",
       "      <th>job_housemaid</th>\n",
       "      <th>...</th>\n",
       "      <th>month_jun</th>\n",
       "      <th>month_mar</th>\n",
       "      <th>month_may</th>\n",
       "      <th>month_nov</th>\n",
       "      <th>month_oct</th>\n",
       "      <th>month_sep</th>\n",
       "      <th>poutcome_other</th>\n",
       "      <th>poutcome_success</th>\n",
       "      <th>subscribed_yes</th>\n",
       "      <th>TotalDays</th>\n",
       "    </tr>\n",
       "    <tr>\n",
       "      <th>cluster</th>\n",
       "      <th></th>\n",
       "      <th></th>\n",
       "      <th></th>\n",
       "      <th></th>\n",
       "      <th></th>\n",
       "      <th></th>\n",
       "      <th></th>\n",
       "      <th></th>\n",
       "      <th></th>\n",
       "      <th></th>\n",
       "      <th></th>\n",
       "      <th></th>\n",
       "      <th></th>\n",
       "      <th></th>\n",
       "      <th></th>\n",
       "      <th></th>\n",
       "      <th></th>\n",
       "      <th></th>\n",
       "      <th></th>\n",
       "      <th></th>\n",
       "      <th></th>\n",
       "    </tr>\n",
       "  </thead>\n",
       "  <tbody>\n",
       "    <tr>\n",
       "      <th>0</th>\n",
       "      <td>1000.0</td>\n",
       "      <td>40.719640</td>\n",
       "      <td>2.941204</td>\n",
       "      <td>14.022489</td>\n",
       "      <td>0.856444</td>\n",
       "      <td>1.935532</td>\n",
       "      <td>0.907849</td>\n",
       "      <td>0.167916</td>\n",
       "      <td>0.022489</td>\n",
       "      <td>0.019490</td>\n",
       "      <td>...</td>\n",
       "      <td>0.000000</td>\n",
       "      <td>0.013493</td>\n",
       "      <td>0.298351</td>\n",
       "      <td>0.047976</td>\n",
       "      <td>0.004498</td>\n",
       "      <td>0.000000</td>\n",
       "      <td>0.098951</td>\n",
       "      <td>0.188906</td>\n",
       "      <td>0.50075</td>\n",
       "      <td>0.649336</td>\n",
       "    </tr>\n",
       "    <tr>\n",
       "      <th>1</th>\n",
       "      <td>333.0</td>\n",
       "      <td>41.361319</td>\n",
       "      <td>2.135382</td>\n",
       "      <td>11.379310</td>\n",
       "      <td>0.706698</td>\n",
       "      <td>1.983508</td>\n",
       "      <td>1.132641</td>\n",
       "      <td>0.205397</td>\n",
       "      <td>0.031484</td>\n",
       "      <td>0.017991</td>\n",
       "      <td>...</td>\n",
       "      <td>0.000000</td>\n",
       "      <td>0.000000</td>\n",
       "      <td>0.000000</td>\n",
       "      <td>0.000000</td>\n",
       "      <td>0.000000</td>\n",
       "      <td>0.000000</td>\n",
       "      <td>0.026987</td>\n",
       "      <td>0.001499</td>\n",
       "      <td>0.00000</td>\n",
       "      <td>0.872154</td>\n",
       "    </tr>\n",
       "    <tr>\n",
       "      <th>2</th>\n",
       "      <td>1666.5</td>\n",
       "      <td>43.106607</td>\n",
       "      <td>3.760032</td>\n",
       "      <td>16.156156</td>\n",
       "      <td>1.014676</td>\n",
       "      <td>1.809309</td>\n",
       "      <td>0.908383</td>\n",
       "      <td>0.073574</td>\n",
       "      <td>0.013514</td>\n",
       "      <td>0.015015</td>\n",
       "      <td>...</td>\n",
       "      <td>0.156156</td>\n",
       "      <td>0.091592</td>\n",
       "      <td>0.201201</td>\n",
       "      <td>0.054054</td>\n",
       "      <td>0.135135</td>\n",
       "      <td>0.201201</td>\n",
       "      <td>0.094595</td>\n",
       "      <td>0.475976</td>\n",
       "      <td>1.00000</td>\n",
       "      <td>0.754325</td>\n",
       "    </tr>\n",
       "  </tbody>\n",
       "</table>\n",
       "<p>3 rows × 40 columns</p>\n",
       "</div>"
      ],
      "text/plain": [
       "         Unnamed: 0        age   balance        day  duration  campaign  \\\n",
       "cluster                                                                   \n",
       "0            1000.0  40.719640  2.941204  14.022489  0.856444  1.935532   \n",
       "1             333.0  41.361319  2.135382  11.379310  0.706698  1.983508   \n",
       "2            1666.5  43.106607  3.760032  16.156156  1.014676  1.809309   \n",
       "\n",
       "            pdays  job_blue-collar  job_entrepreneur  job_housemaid  ...  \\\n",
       "cluster                                                              ...   \n",
       "0        0.907849         0.167916          0.022489       0.019490  ...   \n",
       "1        1.132641         0.205397          0.031484       0.017991  ...   \n",
       "2        0.908383         0.073574          0.013514       0.015015  ...   \n",
       "\n",
       "         month_jun  month_mar  month_may  month_nov  month_oct  month_sep  \\\n",
       "cluster                                                                     \n",
       "0         0.000000   0.013493   0.298351   0.047976   0.004498   0.000000   \n",
       "1         0.000000   0.000000   0.000000   0.000000   0.000000   0.000000   \n",
       "2         0.156156   0.091592   0.201201   0.054054   0.135135   0.201201   \n",
       "\n",
       "         poutcome_other  poutcome_success  subscribed_yes  TotalDays  \n",
       "cluster                                                               \n",
       "0              0.098951          0.188906         0.50075   0.649336  \n",
       "1              0.026987          0.001499         0.00000   0.872154  \n",
       "2              0.094595          0.475976         1.00000   0.754325  \n",
       "\n",
       "[3 rows x 40 columns]"
      ]
     },
     "execution_count": 29,
     "metadata": {},
     "output_type": "execute_result"
    }
   ],
   "source": [
    "df.groupby('cluster').mean()"
   ]
  },
  {
   "cell_type": "markdown",
   "metadata": {},
   "source": [
    "# `Conclusion`"
   ]
  },
  {
   "cell_type": "markdown",
   "metadata": {},
   "source": [
    "### -Cluster 1 is having highest range of covering than cluster 0 and cluster 2\n",
    "### -Education is more effective cluster than other classifiers \n"
   ]
  },
  {
   "cell_type": "markdown",
   "metadata": {},
   "source": [
    "il"
   ]
  }
 ],
 "metadata": {
  "interpreter": {
   "hash": "ed91299c8bd8ac3ec487b8011996e00133e6225c010e471a26cc65b5306e2242"
  },
  "kernelspec": {
   "display_name": "Python 3.9.8 ('env1': venv)",
   "language": "python",
   "name": "python3"
  },
  "language_info": {
   "codemirror_mode": {
    "name": "ipython",
    "version": 3
   },
   "file_extension": ".py",
   "mimetype": "text/x-python",
   "name": "python",
   "nbconvert_exporter": "python",
   "pygments_lexer": "ipython3",
   "version": "3.9.8"
  },
  "orig_nbformat": 4
 },
 "nbformat": 4,
 "nbformat_minor": 2
}
