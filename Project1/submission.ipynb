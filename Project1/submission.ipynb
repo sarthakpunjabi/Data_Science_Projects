{
 "cells": [
  {
   "cell_type": "markdown",
   "metadata": {},
   "source": [
    "# `Importing Libraries `"
   ]
  },
  {
   "cell_type": "code",
   "execution_count": 78,
   "metadata": {},
   "outputs": [],
   "source": [
    "\n",
    "import matplotlib.pyplot as plt\n",
    "import numpy as np\n",
    "import pandas as pd\n",
    "import seaborn as sns\n",
    "from sklearn.preprocessing import LabelEncoder\n",
    "from sklearn.linear_model import LogisticRegression\n",
    "from imblearn.over_sampling import RandomOverSampler\n",
    "from sklearn.metrics import accuracy_score\n",
    "from sklearn.metrics import precision_score, recall_score, confusion_matrix\n",
    "from sklearn.metrics import f1_score, roc_auc_score, roc_curve\n",
    "from sklearn.model_selection import train_test_split\n",
    "from sklearn.model_selection import GridSearchCV\n",
    "from sklearn.utils import class_weight\n",
    "from collections import Counter\n",
    "from sklearn.ensemble import RandomForestClassifier\n",
    "from sklearn.preprocessing import StandardScaler\n",
    "from sklearn.model_selection import train_test_split"
   ]
  },
  {
   "cell_type": "markdown",
   "metadata": {},
   "source": [
    "## defining datasets"
   ]
  },
  {
   "cell_type": "code",
   "execution_count": 79,
   "metadata": {},
   "outputs": [],
   "source": [
    "df = pd.read_csv(\"creditcard.csv\")\n",
    "df2 = pd.read_csv(\"iris.csv\")\n"
   ]
  },
  {
   "cell_type": "markdown",
   "metadata": {},
   "source": [
    "## **`Making classes and user define function`**"
   ]
  },
  {
   "cell_type": "code",
   "execution_count": 80,
   "metadata": {},
   "outputs": [],
   "source": [
    "\n",
    "\n",
    "\n",
    "# helper function number 1\n",
    "def generate_auc_roc_curve(clf, X_test):\n",
    "    y_pred_proba = clf.predict_proba(X_test)[:, 1]\n",
    "    fpr, tpr, thresholds = roc_curve(Y_test,  y_pred_proba)\n",
    "    auc = roc_auc_score(Y_test, y_pred_proba)\n",
    "    plt.plot(fpr,tpr,label=\"AUC ROC Curve with Area Under the curve =\"+str(auc))\n",
    "    plt.legend(loc=4)\n",
    "    plt.show()\n",
    "\n",
    "# helper function number2\n",
    "def generate_model_report(y_actual, y_predicted):\n",
    "    print(\"Accuracy = \" , accuracy_score(y_actual, y_predicted))\n",
    "    print(\"Precision = \" ,precision_score(y_actual, y_predicted))\n",
    "    print(\"Recall = \" ,recall_score(y_actual, y_predicted))\n",
    "    print(\"F1 Score = \" ,f1_score(y_actual, y_predicted))\n",
    "\n",
    "    \n",
    "\n",
    "#Logistic Regression with penalty\n",
    "def Logistic(X_train,Y_train):\n",
    "    clf = LogisticRegression(penalty='l2').fit(X_train,Y_train)\n",
    "    Y_Test_Pred = clf.predict(X_test)\n",
    "    #pd.crosstab(Y_Test_Pred, Y_test[Y], rownames=['Predicted'], colnames=['Actual'])\n",
    "    showresults(clf,Y_Test_Pred)\n",
    "    \n",
    "    \n",
    "    \n",
    "\n",
    "def showresults(clf,Y_Test_Pred):\n",
    "    print(\"Defining Reports\")\n",
    "    generate_model_report(Y_test, Y_Test_Pred)\n",
    "    generate_auc_roc_curve(clf, X_test)\n",
    "\n",
    "#undersampling\n",
    "def Undersampling(df,Y):\n",
    "    sns.countplot(x=Y,data=df)\n",
    "    #print(df['Class'].value_counts())\n",
    "    minority_class_len = len(df[df[Y] == 1])\n",
    "\n",
    "    majority_class_indices = df[df[Y] == 0].index\n",
    "\n",
    "    random_majority_indices = np.random.choice(majority_class_indices,\n",
    "                                            minority_class_len, \n",
    "                                            replace=False)\n",
    "\n",
    "    minority_class_indices = df[df[Y] == 1].index\n",
    "\n",
    "    under_sample_indices = np.concatenate([minority_class_indices,random_majority_indices])\n",
    "    under_sample = df.loc[under_sample_indices]\n",
    "    sns.countplot(x=Y, data=under_sample)\n",
    "    return under_sample\n",
    "    \n",
    "    \n",
    "\n",
    "def Oversampling(dataset,X,Y):\n",
    "    ax = sns.countplot(x=Y,data=dataset)\n",
    "   # print(Y.value_counts())\n",
    "    ros = RandomOverSampler(random_state=0)\n",
    "    X_resampled , Y_resampled = ros.fit_resample(X,Y)\n",
    "    print(sorted(Counter(Y_resampled).items()),Y_resampled.shape)\n",
    "    print(sorted(Counter(X_resampled).items()),X_resampled.shape)\n",
    "    # unique, count = np.unique(Y_train, return_counts=True)\n",
    "    # Y_train_dict_value_count = { k:v for (k,v) in zip(unique, count)}\n",
    "    # Y_train_dict_value_count\n",
    "\n",
    "def randomforest():\n",
    "    sc = StandardScaler()\n",
    "    X_train = sc.fit_transform(X_train)\n",
    "    X_test = sc.transform(X_test)\n",
    "    classifier = RandomForestClassifier(n_estimators = 10, criterion = 'entropy', random_state = 0)\n",
    "    classifier.fit(X_train, y_train)\n",
    "    print(classifier.predict(sc.transform([[30,87000]])))\n",
    "    y_pred = classifier.predict(X_test)\n",
    "    print(np.concatenate((y_pred.reshape(len(y_pred),1), y_test.reshape(len(y_test),1)),1))\n",
    "\n",
    "def SVM():\n",
    "    from sklearn.svm import SVC\n",
    "    classifier = SVC(kernel = 'linear', random_state = 0)\n",
    "    classifier.fit(X_train, y_train)\n",
    "    print(classifier.predict(sc.transform([[30,87000]])))\n",
    "    y_pred = classifier.predict(X_test)\n",
    "    print(np.concatenate((y_pred.reshape(len(y_pred),1), y_test.reshape(len(y_test),1)),1))\n",
    "    \n",
    "\n",
    "def Bayes():\n",
    "    from sklearn.naive_bayes import GaussianNB\n",
    "    classifier = GaussianNB()\n",
    "    classifier.fit(X_train, y_train)\n",
    "    print(classifier.predict(sc.transform([[30,87000]])))\n",
    "    y_pred = classifier.predict(X_test)\n",
    "    print(np.concatenate((y_pred.reshape(len(y_pred),1), y_test.reshape(len(y_test),1)),1))\n",
    "\n",
    "def XGBoost():\n",
    "    pass\n",
    "\n",
    "\n",
    "\n",
    "\n",
    "\n",
    "\n",
    "\n",
    "\n"
   ]
  },
  {
   "cell_type": "code",
   "execution_count": 81,
   "metadata": {},
   "outputs": [
    {
     "name": "stdout",
     "output_type": "stream",
     "text": [
      "0    284315\n",
      "1       492\n",
      "Name: Class, dtype: int64\n",
      "Defining Reports\n",
      "Accuracy =  0.9990637032875719\n",
      "Precision =  0.7089552238805971\n",
      "Recall =  0.6985294117647058\n",
      "F1 Score =  0.7037037037037037\n"
     ]
    },
    {
     "name": "stderr",
     "output_type": "stream",
     "text": [
      "/Users/sarthakpunjabi/Desktop/machine learning and data science/data_with_python/env1/lib/python3.8/site-packages/sklearn/linear_model/_logistic.py:763: ConvergenceWarning: lbfgs failed to converge (status=1):\n",
      "STOP: TOTAL NO. of ITERATIONS REACHED LIMIT.\n",
      "\n",
      "Increase the number of iterations (max_iter) or scale the data as shown in:\n",
      "    https://scikit-learn.org/stable/modules/preprocessing.html\n",
      "Please also refer to the documentation for alternative solver options:\n",
      "    https://scikit-learn.org/stable/modules/linear_model.html#logistic-regression\n",
      "  n_iter_i = _check_optimize_result(\n"
     ]
    },
    {
     "data": {
      "image/png": "[encoded data removed]",
      "text/plain": [
       "<Figure size 432x288 with 1 Axes>"
      ]
     },
     "metadata": {
      "needs_background": "light"
     },
     "output_type": "display_data"
    },
    {
     "name": "stdout",
     "output_type": "stream",
     "text": [
      "[(0, 284315), (1, 284315)] (568630,)\n",
      "[('Amount', 1), ('Time', 1), ('V1', 1), ('V10', 1), ('V11', 1), ('V12', 1), ('V13', 1), ('V14', 1), ('V15', 1), ('V16', 1), ('V17', 1), ('V18', 1), ('V19', 1), ('V2', 1), ('V20', 1), ('V21', 1), ('V22', 1), ('V23', 1), ('V24', 1), ('V25', 1), ('V26', 1), ('V27', 1), ('V28', 1), ('V3', 1), ('V4', 1), ('V5', 1), ('V6', 1), ('V7', 1), ('V8', 1), ('V9', 1)] (568630, 30)\n"
     ]
    },
    {
     "ename": "AttributeError",
     "evalue": "'NoneType' object has no attribute 'iloc'",
     "output_type": "error",
     "traceback": [
      "\u001b[0;31m---------------------------------------------------------------------------\u001b[0m",
      "\u001b[0;31mAttributeError\u001b[0m                            Traceback (most recent call last)",
      "\u001b[0;32m<ipython-input-81-2bb61adfd8a2>\u001b[0m in \u001b[0;36m<module>\u001b[0;34m\u001b[0m\n\u001b[1;32m     12\u001b[0m         \u001b[0mLogistic\u001b[0m\u001b[0;34m(\u001b[0m\u001b[0mX_train\u001b[0m\u001b[0;34m,\u001b[0m\u001b[0mY_train\u001b[0m\u001b[0;34m)\u001b[0m\u001b[0;34m\u001b[0m\u001b[0;34m\u001b[0m\u001b[0m\n\u001b[1;32m     13\u001b[0m         \u001b[0mus\u001b[0m \u001b[0;34m=\u001b[0m \u001b[0mOversampling\u001b[0m\u001b[0;34m(\u001b[0m\u001b[0mi\u001b[0m\u001b[0;34m,\u001b[0m\u001b[0mX\u001b[0m\u001b[0;34m,\u001b[0m\u001b[0mY\u001b[0m\u001b[0;34m)\u001b[0m\u001b[0;34m\u001b[0m\u001b[0;34m\u001b[0m\u001b[0m\n\u001b[0;32m---> 14\u001b[0;31m         \u001b[0mX\u001b[0m \u001b[0;34m=\u001b[0m \u001b[0mus\u001b[0m\u001b[0;34m.\u001b[0m\u001b[0miloc\u001b[0m\u001b[0;34m[\u001b[0m\u001b[0;34m:\u001b[0m\u001b[0;34m,\u001b[0m\u001b[0;34m:\u001b[0m\u001b[0;34m-\u001b[0m\u001b[0;36m1\u001b[0m\u001b[0;34m]\u001b[0m\u001b[0;34m.\u001b[0m\u001b[0mvalues\u001b[0m\u001b[0;34m\u001b[0m\u001b[0;34m\u001b[0m\u001b[0m\n\u001b[0m\u001b[1;32m     15\u001b[0m         \u001b[0mY\u001b[0m \u001b[0;34m=\u001b[0m \u001b[0mus\u001b[0m\u001b[0;34m.\u001b[0m\u001b[0miloc\u001b[0m\u001b[0;34m[\u001b[0m\u001b[0;34m:\u001b[0m\u001b[0;34m,\u001b[0m\u001b[0;34m-\u001b[0m\u001b[0;36m1\u001b[0m\u001b[0;34m]\u001b[0m\u001b[0;34m.\u001b[0m\u001b[0mvalues\u001b[0m\u001b[0;34m\u001b[0m\u001b[0;34m\u001b[0m\u001b[0m\n\u001b[1;32m     16\u001b[0m         \u001b[0mX_train\u001b[0m \u001b[0;34m,\u001b[0m \u001b[0mX_test\u001b[0m\u001b[0;34m,\u001b[0m \u001b[0mY_train\u001b[0m \u001b[0;34m,\u001b[0m\u001b[0mY_test\u001b[0m \u001b[0;34m=\u001b[0m \u001b[0mtrain_test_split\u001b[0m\u001b[0;34m(\u001b[0m\u001b[0mX\u001b[0m\u001b[0;34m,\u001b[0m\u001b[0mY\u001b[0m\u001b[0;34m,\u001b[0m\u001b[0mtest_size\u001b[0m\u001b[0;34m=\u001b[0m\u001b[0;36m0.3\u001b[0m\u001b[0;34m,\u001b[0m\u001b[0mrandom_state\u001b[0m\u001b[0;34m=\u001b[0m\u001b[0;36m42\u001b[0m\u001b[0;34m)\u001b[0m\u001b[0;34m\u001b[0m\u001b[0;34m\u001b[0m\u001b[0m\n",
      "\u001b[0;31mAttributeError\u001b[0m: 'NoneType' object has no attribute 'iloc'"
     ]
    },
    {
     "data": {
      "image/png": "[encoded data removed]",
      "text/plain": [
       "<Figure size 432x288 with 1 Axes>"
      ]
     },
     "metadata": {
      "needs_background": "light"
     },
     "output_type": "display_data"
    }
   ],
   "source": [
    "dataset = [df,df2]\n",
    "for i in dataset:\n",
    "    while True:\n",
    "        #preprocessing and spliting the data\n",
    "        X = i.iloc[:,:-1]\n",
    "        Y = i.iloc[:,-1]\n",
    "        le = LabelEncoder()\n",
    "        Y = le.fit_transform(Y)\n",
    "        X_train , X_test, Y_train ,Y_test = train_test_split(X,Y,test_size=0.3,random_state=42)\n",
    "        ax = sns.countplot(x=Y,data=i)\n",
    "        print(df['Class'].value_counts())\n",
    "        Logistic(X_train,Y_train)\n",
    "        us = Oversampling(i,X,Y)\n",
    "        X = us.iloc[:,:-1].values\n",
    "        Y = us.iloc[:,-1].values\n",
    "        X_train , X_test, Y_train ,Y_test = train_test_split(X,Y,test_size=0.3,random_state=42)\n",
    "        Logistic(X_train,Y_train)\n",
    "\n",
    "\n",
    "        \n",
    "        break\n",
    "    break  \n",
    "\n",
    "\n",
    "\n",
    "\n",
    "\n",
    "\n",
    "\n",
    "    \n",
    "\n"
   ]
  },
  {
   "cell_type": "code",
   "execution_count": null,
   "metadata": {},
   "outputs": [],
   "source": []
  }
 ],
 "metadata": {
  "interpreter": {
   "hash": "b9ce72a188f928f2b09a51035ce42a779d50c7a7fcc2d2d403c21c4f0ecac9ce"
  },
  "kernelspec": {
   "display_name": "Python 3.8.2 64-bit ('env1': venv)",
   "name": "python3"
  },
  "language_info": {
   "codemirror_mode": {
    "name": "ipython",
    "version": 3
   },
   "file_extension": ".py",
   "mimetype": "text/x-python",
   "name": "python",
   "nbconvert_exporter": "python",
   "pygments_lexer": "ipython3",
   "version": "3.8.2"
  },
  "orig_nbformat": 4
 },
 "nbformat": 4,
 "nbformat_minor": 2
}
